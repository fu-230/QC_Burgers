{
 "cells": [
  {
   "cell_type": "code",
   "execution_count": null,
   "metadata": {
    "vscode": {
     "languageId": "wolfram"
    }
   },
   "outputs": [],
   "source": [
    "ClearAll[\"Global`*\"];\n",
    "{brown,green,beige,blue}=RGBColor/@{\"#640125\",\"#6e7955\",\"#cbb994\",\"#165e83\"};\n",
    "<<\"MaTeX`\";\n",
    "\n",
    "(* parameters *)\n",
    "nu=1. (* heat conductivity *);\n",
    "SimTime=0.1;\n",
    "BoxSize=1;\n",
    "{tMin,tMax}={0,SimTime} (* time *);\n",
    "{xMin,xMax}={-BoxSize/2.,BoxSize/2.} (* x coordinate *);\n",
    "xgr=128;dx=BoxSize/(xgr-1);\n",
    "tgr=4096;dt=SimTime/(tgr-1);\n",
    "std=0.3; (* sigma of the random variable *)\n",
    "\n",
    "nu*dt/dx^2<=1/2 (* for nbumerical stability *)"
   ]
  },
  {
   "cell_type": "code",
   "execution_count": null,
   "metadata": {
    "vscode": {
     "languageId": "wolfram"
    }
   },
   "outputs": [],
   "source": [
    "(* Initial conditions NO NEED TO RUN THIS EVERY TIME *)\n",
    "Xi=RandomFunction[WhiteNoiseProcess[std],{1,2*xgr+1}];\n",
    "ListPlot[Xi,Filling->Axis]\n",
    "(* To obtain values, run Xi[\"Values\"][[i]], i=1,...,2*xgr+1 *)"
   ]
  },
  {
   "cell_type": "code",
   "execution_count": null,
   "metadata": {
    "vscode": {
     "languageId": "wolfram"
    }
   },
   "outputs": [],
   "source": [
    "logphiinidata[n_]:=Xi[\"Values\"][[2*xgr+1]]+Sum[Xi[\"Values\"][[i]]*Sin[2*Pi*i*n/(xgr-1)]+Xi[\"Values\"][[i+xgr]]*Cos[2*Pi*i*n/(xgr-1)],{i,1,5}]\n",
    "data=Array[logphiinidata[#-1]&,xgr];\n",
    "Export[\"logphiini_100_01_002.dat\",data]; (* _xgr_sigma_ID *)"
   ]
  },
  {
   "cell_type": "code",
   "execution_count": null,
   "metadata": {
    "vscode": {
     "languageId": "wolfram"
    }
   },
   "outputs": [],
   "source": [
    "logphiinidata2[n_]:=Xi[\"Values\"][[2*xgr+1]]+Sum[Xi[\"Values\"][[i]]*Log[Abs[Sin[2*Pi*i*n/(xgr-1)]+0.5]]+Xi[\"Values\"][[i+xgr]]*Log[Abs[Cos[2*Pi*i*n/(xgr-1)]+0.5]],{i,1,5}]\n",
    "data2=Array[logphiinidata2[#-1]&,xgr];\n",
    "Export[\"logphiini2_100_01_002.dat\",data2]; (* _xgr_sigma_ID *)"
   ]
  },
  {
   "cell_type": "code",
   "execution_count": null,
   "metadata": {
    "vscode": {
     "languageId": "wolfram"
    }
   },
   "outputs": [],
   "source": [
    "Clear[itpphiini,hom]\n",
    "(* dataimp=Import[\"logphiini_100_01_002.dat\"];*)\n",
    "dataimp=Import[\"logphiini2_100_01_002.dat\"];\n",
    "dataimpext=Append[dataimp,dataimp[[1]]];\n",
    "itpimpdata=Interpolation[Table[{j,dataimpext[[j]]},{j,xgr}],InterpolationOrder->3];\n",
    "itpphiini[x_?NumericQ]:=Exp[-itpimpdata[(x-xMin)/dx+1][[1]]];\n",
    "hom=Sum[itpphiini[i/32],{i,xMin*32,xMax*32}]/32/BoxSize;\n",
    "\n",
    "thickness=0.04;colorIni=gray;colorFin=sora;\n",
    "graph1=Plot[{hom,itpphiini[x]},{x,xMin,xMax},AxesLabel->MaTeX[{\"x\",\"\\psi_{ini}\"}],BaseStyle->{FontSize->12,FontFamily->\"Latin Modern Roman\"},ImageSize->300,PlotRange->{-1,5},PlotStyle->{{Thickness[thickness/5],sakura},{Thickness[thickness/5],aomidori}}]"
   ]
  },
  {
   "cell_type": "code",
   "execution_count": null,
   "metadata": {
    "vscode": {
     "languageId": "wolfram"
    }
   },
   "outputs": [],
   "source": [
    "xGrid=Range[xMin,xMax,dx];\n",
    "phi0={};\n",
    "For[i=1,i<=xgr,i++,\n",
    "  AppendTo[phi0,itpphiini[xGrid[[i]]]]\n",
    "];\n",
    "phi=phi0;\n",
    "results={phi};\n",
    "\n",
    "For[t=1,t<=tgr-1,t++,\n",
    "  phiNew=phi;\n",
    "  For[i=2,i<=xgr-1,i++,\n",
    "    phiNew[[i]]=phi[[i]]+nu*dt/dx^2*(phi[[i-1]]-2*phi[[i]]+phi[[i+1]]);\n",
    "  ];\n",
    "  phiNew[[1]]=phi[[1]]+nu*dt/dx^2*(phi[[xgr-1]]-2*phi[[1]]+phi[[2]]);\n",
    "  phiNew[[xgr]]=phiNew[[1]];\n",
    "  phi=phiNew;\n",
    "  AppendTo[results,phi];\n",
    "];\n",
    "\n",
    "graph2=ListLinePlot[{results[[1]],results[[4]],results[[820]]},DataRange->{xMin,xMax},PlotRange->All,PlotStyle->{brown,green,beige},BaseStyle->{FontSize->17,FontFamily->\"Latin Modern Roman\"},ImageSize->500,PlotLegends->Placed[LineLegend[{\"\\[Tau]=0\",\"\\[Tau]=0.01\",\"\\[Tau]=0.02\"}],{Right,Top}],\n",
    " AxesLabel->{\"x\",\"\\[Psi]\"}];\n",
    "graph22=Plot[hom,{x,xMin,xMax},AxesLabel->{\"x\",Subscript[\"\\[Psi]\",\"ini\"]},BaseStyle->{FontSize->30,FontFamily->\"Latin Modern Roman\"},ImageSize->500,PlotRange->{-1,5},PlotStyle->{Dashed,blue}];\n",
    "\n",
    "Show[graph2,graph22]\n",
    "Export[\"phi241214_2.pdf\",%]\n"
   ]
  },
  {
   "cell_type": "code",
   "execution_count": null,
   "metadata": {
    "vscode": {
     "languageId": "wolfram"
    }
   },
   "outputs": [],
   "source": [
    "u0={};\n",
    "approxu0={};\n",
    "AppendTo[u0,-(nu*xgr/BoxSize)*(results[[1]][[2]]-results[[1]][[xgr-1]])/results[[1]][[1]]];\n",
    "AppendTo[approxu0,-(nu*xgr/BoxSize)*(results[[1]][[2]]-results[[1]][[xgr-1]])/hom];\n",
    "For[i=2,i<=xgr-1,i++,\n",
    "  AppendTo[u0,-(nu*xgr/BoxSize)*(results[[1]][[i+1]]-results[[1]][[i-1]])/results[[1]][[i]]];\n",
    "  AppendTo[approxu0,-(nu*xgr/BoxSize)*(results[[1]][[i+1]]-results[[1]][[i-1]])/hom];\n",
    "];\n",
    "AppendTo[u0,-(nu*xgr/BoxSize)*(results[[1]][[2]]-results[[1]][[xgr-1]])/results[[1]][[xgr]]];\n",
    "AppendTo[approxu0,-(nu*xgr/BoxSize)*(results[[1]][[2]]-results[[1]][[xgr-1]])/hom];\n",
    "u=u0;\n",
    "approxu=approxu0;\n",
    "uresults={u};\n",
    "approxuresults={approxu};\n",
    "\n",
    "For[t=1,t<=tgr,t++,\n",
    "  uNew=u;\n",
    "  approxuNew=approxu;\n",
    "  uNew[[1]]=-(nu*xgr/BoxSize)*(results[[t]][[2]]-results[[t]][[xgr-1]])/results[[t]][[1]];\n",
    "  approxuNew[[1]]=-(nu*xgr/BoxSize)*(results[[t]][[2]]-results[[t]][[xgr-1]])/hom;\n",
    "  For[i=2,i<=xgr-1,i++,\n",
    "    uNew[[i]]=-(nu*xgr/BoxSize)*(results[[t]][[i+1]]-results[[t]][[i-1]])/results[[t]][[i]];\n",
    "    approxuNew[[i]]=-(nu*xgr/BoxSize)*(results[[t]][[i+1]]-results[[t]][[i-1]])/hom;\n",
    "  ];\n",
    "  uNew[[xgr]]=-(nu*xgr/BoxSize)*(results[[t]][[2]]-results[[t]][[xgr-1]])/results[[t]][[xgr]];\n",
    "  approxuNew[[xgr]]=-(nu*xgr/BoxSize)*(results[[t]][[2]]-results[[t]][[xgr-1]])/hom;\n",
    "  u=uNew;\n",
    "  approxu=approxuNew;\n",
    "  AppendTo[uresults,u];\n",
    "  AppendTo[approxuresults,approxu];\n",
    "];\n",
    "\n",
    "graph3=ListLinePlot[{uresults[[1]],uresults[[41]],uresults[[1227]]},DataRange->{xMin,xMax},PlotRange->All,ImageSize->500,PlotStyle->{brown,green,beige},PlotLegends->Placed[LineLegend[{\"\\[Tau]=0\",\"\\[Tau]=0.001\",\"\\[Tau]=0.005\"}],{Right,Top}],\n",
    " AxesLabel->{\"x\",\"u\"},BaseStyle->{FontSize->17,FontFamily->\"Latin Modern Roman\"}];\n",
    "graph4=ListLinePlot[{approxuresults[[1]],approxuresults[[41]],approxuresults[[205]]},DataRange->{xMin,xMax},PlotRange->All,ImageSize->500,PlotStyle->{{Dashed,brown},{Dashed,green},{Dashed,beige}}, \n",
    " AxesLabel->{\"x\",Subscript[\"u\",\"approx\"]},BaseStyle->{FontSize->17,FontFamily->\"Latin Modern Roman\"}];"
   ]
  },
  {
   "cell_type": "code",
   "execution_count": null,
   "metadata": {
    "vscode": {
     "languageId": "wolfram"
    }
   },
   "outputs": [],
   "source": [
    "Show[graph3,graph4]\n",
    "Export[\"u241214_2.pdf\",%]"
   ]
  },
  {
   "cell_type": "code",
   "execution_count": null,
   "metadata": {
    "vscode": {
     "languageId": "wolfram"
    }
   },
   "outputs": [],
   "source": [
    "Reynolds0={};\n",
    "One={};\n",
    "AppendTo[Reynolds0,Abs[uresults[[1]][[1]]*(uresults[[1]][[2]]-uresults[[1]][[xgr-1]])*dx/(2*nu*(uresults[[1]][[2]]+uresults[[1]][[xgr-1]]-2*uresults[[1]][[1]]))]];\n",
    "AppendTo[One,1];\n",
    "For[i=2,i<=xgr-1,i++,\n",
    "  AppendTo[Reynolds0,Abs[uresults[[1]][[i]]*(uresults[[1]][[i+1]]-uresults[[1]][[i-1]])*dx/(2*nu*(uresults[[1]][[i+1]]+uresults[[1]][[i-1]]-2*uresults[[1]][[i]]))]];\n",
    "  AppendTo[One,1];\n",
    "];\n",
    "AppendTo[Reynolds0,Abs[uresults[[1]][[1]]*(uresults[[1]][[2]]-uresults[[1]][[xgr-1]])*dx/(2*nu*(uresults[[1]][[2]]+uresults[[1]][[xgr-1]]-2*uresults[[1]][[1]]))]];\n",
    "AppendTo[One,1];\n",
    "Reynolds={Reynolds0};\n",
    "\n",
    "For[t=1,t<=tgr,t++,\n",
    "  ReynoldsNew=Reynolds0;\n",
    "  ReynoldsNew[[1]]=Abs[uresults[[t]][[1]]*(uresults[[t]][[2]]-uresults[[t]][[xgr-1]])*dx/(2*nu*(uresults[[t]][[2]]+uresults[[t]][[xgr-1]]-2*uresults[[t]][[1]]))];\n",
    "  For[i=2,i<=xgr-1,i++,\n",
    "    ReynoldsNew[[i]]=Abs[uresults[[t]][[i]]*(uresults[[t]][[i+1]]-uresults[[t]][[i-1]])*dx/(2*nu*(uresults[[t]][[i+1]]+uresults[[t]][[i-1]]-2*uresults[[t]][[i]]))];\n",
    "  ];\n",
    "  ReynoldsNew[[xgr]]=Abs[uresults[[t]][[1]]*(uresults[[t]][[2]]-uresults[[t]][[xgr-1]])*dx/(2*nu*(uresults[[t]][[2]]+uresults[[t]][[xgr-1]]-2*uresults[[t]][[1]]))];\n",
    "  Reynoldst=ReynoldsNew;\n",
    "  AppendTo[Reynolds,Reynoldst];\n",
    "];\n",
    "\n",
    "graph=ListLinePlot[{Reynolds[[1]],Reynolds[[41]],Reynolds[[1227]],One},DataRange->{xMin,xMax},PlotRange->{0,10},ImageSize->500,PlotStyle->{brown,green,beige,blue},PlotLegends->Placed[LineLegend[{\"\\[Tau]=0\",\"\\[Tau]=0.001\",\"\\[Tau]=0.005\"}],{Right,Top}],\n",
    " AxesLabel->{\"x\",\"Re\"},BaseStyle->{FontSize->17,FontFamily->\"Latin Modern Roman\"}]"
   ]
  },
  {
   "cell_type": "code",
   "execution_count": null,
   "metadata": {
    "vscode": {
     "languageId": "wolfram"
    }
   },
   "outputs": [],
   "source": [
    "I2={};\n",
    "approxI2={};\n",
    "ratioI2={};\n",
    "For[t=1,t<=tgr,t++,\n",
    "  AppendTo[I2,{t*dt,Sum[uresults[[t]][[i]]^2,{i,1,xgr}]/xgr}];\n",
    "  AppendTo[approxI2,{t*dt,Sum[approxuresults[[t]][[i]]^2,{i,1,xgr}]/xgr}];\n",
    "  AppendTo[ratioI2,{t*dt,Sum[approxuresults[[t]][[i]]^2,{i,1,xgr}]/Sum[uresults[[t]][[i]]^2,{i,1,xgr}]}]\n",
    "];\n",
    "\n",
    "graph5=ListLinePlot[{I2,approxI2},DataRange->{tMin,tMax},PlotRange->All,PlotStyle->{brown,green},\n",
    " AxesLabel->MaTeX[{\"t\",\"I_2\"}]]\n",
    "graph6=ListLinePlot[ratioI2,DataRange->{tMin,tMax},PlotRange->{0.5,1.5},PlotStyle->brown,\n",
    " AxesLabel->MaTeX[{\"t\",\"I_{2{approx}}/I_2\"}]]"
   ]
  },
  {
   "cell_type": "code",
   "execution_count": null,
   "metadata": {
    "vscode": {
     "languageId": "wolfram"
    }
   },
   "outputs": [],
   "source": [
    "I3={};\n",
    "approxI3={};\n",
    "ratioI3={};\n",
    "For[t=1,t<=tgr,t++,\n",
    "  AppendTo[I3,{t*dt,Sum[uresults[[t]][[i]]^3,{i,1,xgr}]/xgr}];\n",
    "  AppendTo[approxI3,{t*dt,Sum[approxuresults[[t]][[i]]^3,{i,1,xgr}]/xgr}];\n",
    "  AppendTo[ratioI3,{t*dt,Sum[approxuresults[[t]][[i]]^3,{i,1,xgr}]/Sum[uresults[[t]][[i]]^3,{i,1,xgr}]}]\n",
    "];\n",
    "\n",
    "graph7=ListLinePlot[{I3,approxI3},DataRange->{tMin,tMax},PlotRange->All,PlotStyle->{brown,green},\n",
    " AxesLabel->MaTeX[{\"t\",\"I_3\"}]]\n",
    "graph8=ListLinePlot[ratioI3,DataRange->{tMin,tMax},PlotRange->{0.5,1.5},PlotStyle->brown,\n",
    " AxesLabel->MaTeX[{\"t\",\"I_{3{approx}}/I_3\"}]]"
   ]
  },
  {
   "cell_type": "code",
   "execution_count": null,
   "metadata": {
    "vscode": {
     "languageId": "wolfram"
    }
   },
   "outputs": [],
   "source": [
    "I4={};\n",
    "approxI4={};\n",
    "ratioI4={};\n",
    "For[t=1,t<=tgr,t++,\n",
    "  AppendTo[I4,{t*dt,Sum[uresults[[t]][[i]]^4,{i,1,xgr}]/xgr}];\n",
    "  AppendTo[approxI4,{t*dt,Sum[approxuresults[[t]][[i]]^4,{i,1,xgr}]/xgr}];\n",
    "  AppendTo[ratioI4,{t*dt,Sum[approxuresults[[t]][[i]]^4,{i,1,xgr}]/Sum[uresults[[t]][[i]]^4,{i,1,xgr}]}]\n",
    "];\n",
    "\n",
    "graph9=ListLinePlot[{I4,approxI4},DataRange->{tMin,tMax},PlotRange->All,PlotStyle->{brown,green},\n",
    " AxesLabel->MaTeX[{\"t\",\"I_4\"}]]\n",
    "graph10=ListLinePlot[ratioI4,DataRange->{tMin,tMax},PlotRange->{0.5,1.5},PlotStyle->brown,\n",
    " AxesLabel->MaTeX[{\"t\",\"I_{4{approx}}/I_4\"}]]"
   ]
  },
  {
   "cell_type": "code",
   "execution_count": null,
   "metadata": {
    "vscode": {
     "languageId": "wolfram"
    }
   },
   "outputs": [],
   "source": [
    "beta={};\n",
    "approxbeta={};\n",
    "ratiobeta={};\n",
    "For[t=1,t<=tgr,t++,\n",
    "  beta1=Sum[uresults[[t]][[i]]^4,{i,1,xgr}]*xgr/Sum[uresults[[t]][[i]]^2,{i,1,xgr}]^2-3;\n",
    "  beta2=Sum[approxuresults[[t]][[i]]^4,{i,1,xgr}]*xgr/Sum[approxuresults[[t]][[i]]^2,{i,1,xgr}]^2-3;\n",
    "  AppendTo[beta,{t*dt,beta1}];\n",
    "  AppendTo[approxbeta,{t*dt,beta2}];\n",
    "  AppendTo[ratiobeta,{t*dt,beta2/beta1}]\n",
    "];\n",
    "\n",
    "graph11=ListLinePlot[{beta,approxbeta},DataRange->{tMin,tMax},PlotRange->{-2,0},BaseStyle->{FontSize->17},PlotStyle->{brown,{Dashed,green}},ImageSize->500,PlotStyle->{brown,green},PlotRangeClipping->False,\n",
    " PlotLegends->Placed[LineLegend[{\"\\[Beta]\",Subscript[\"\\[Beta]\",\"approx\"]}],{Right,Center}],AxesLabel->{\"\\[Tau]\",\"\\[Beta]\"}]\n",
    "Export[\"beta241214_2.pdf\",%]\n",
    "graph12=ListLinePlot[ratiobeta,DataRange->{tMin,tMax},PlotRange->{0,1.5},BaseStyle->{FontSize->12},ImageSize->350,PlotStyle->{Dashed,green},PlotRangeClipping->False,\n",
    " Ticks->{Automatic,{0,0.5,1.0,1.5}},AxesLabel->{\"\\[Tau]\",Subscript[\"r\",\"approx\"]}]"
   ]
  },
  {
   "cell_type": "code",
   "execution_count": null,
   "metadata": {
    "vscode": {
     "languageId": "wolfram"
    }
   },
   "outputs": [],
   "source": [
    "(* 論文用グラフ作成 *)\n",
    "betaBL=Plot[-1.5,{t,0,240},PlotStyle->blue];\n",
    "plotr=Plot[1,{t,0,240},PlotStyle->brown];\n",
    "g1=Show[graph11,betaBL];\n",
    "g2=Show[graph5];\n",
    "g3=Show[graph6,plotr];\n",
    "g4=Show[graph9];\n",
    "g5=Show[graph10,plotr];\n",
    "g6=Show[graph12,plotr];\n",
    "g7=Show[g1,Graphics[Inset[g6,{120,-0.17},{Center},{120,1.2}]]]\n",
    "Export[\"flatness241210.png\",g7]"
   ]
  },
  {
   "cell_type": "code",
   "execution_count": 201,
   "metadata": {
    "vscode": {
     "languageId": "wolfram"
    }
   },
   "outputs": [
    {
     "ename": "NIntegrate::ncvb",
     "evalue": "                                                                                                                                              -15               -14\nNIntegrate failed to converge to prescribed accuracy after 9 recursive bisections in x0 near {x0} = {-2.0118}. NIntegrate obtained -2.27862 10    and 1.20358 10    for the integral and error estimates.",
     "output_type": "error",
     "traceback": [
      "\u001b[0;31m                                                                                                                                                                -15               -14\nNIntegrate::ncvb: NIntegrate failed to converge to prescribed accuracy after 9 recursive bisections in x0 near {x0} = {-2.0118}. NIntegrate obtained -2.27862 10    and 1.20358 10    for the integral and error estimates.\u001b[0m"
     ]
    },
    {
     "ename": "NIntegrate::ncvb",
     "evalue": "                                                                                                                                               -15               -16\nNIntegrate failed to converge to prescribed accuracy after 9 recursive bisections in x0 near {x0} = {-2.02156}. NIntegrate obtained -1.08179 10    and 2.85106 10    for the integral and error estimates.",
     "output_type": "error",
     "traceback": [
      "\u001b[0;31m                                                                                                                                                                 -15               -16\nNIntegrate::ncvb: NIntegrate failed to converge to prescribed accuracy after 9 recursive bisections in x0 near {x0} = {-2.02156}. NIntegrate obtained -1.08179 10    and 2.85106 10    for the integral and error estimates.\u001b[0m"
     ]
    },
    {
     "ename": "NIntegrate::ncvb",
     "evalue": "                                                                                                                                             -16               -17\nNIntegrate failed to converge to prescribed accuracy after 9 recursive bisections in x0 near {x0} = {-1.9825}. NIntegrate obtained -1.8735 10    and 7.94195 10    for the integral and error estimates.",
     "output_type": "error",
     "traceback": [
      "\u001b[0;31m                                                                                                                                                               -16               -17\nNIntegrate::ncvb: NIntegrate failed to converge to prescribed accuracy after 9 recursive bisections in x0 near {x0} = {-1.9825}. NIntegrate obtained -1.8735 10    and 7.94195 10    for the integral and error estimates.\u001b[0m"
     ]
    },
    {
     "ename": "General::stop",
     "evalue": "Further output of NIntegrate::ncvb will be suppressed during this calculation.",
     "output_type": "error",
     "traceback": [
      "\u001b[0;31mGeneral::stop: Further output of NIntegrate::ncvb will be suppressed during this calculation.\u001b[0m"
     ]
    },
    {
     "data": {
      "text/html": [
       "<style>\n",
       "\t\t\t\t\t\t\t\t\t\t\t\t\t.grid-container {\n",
       "\t\t\t\t\t\t\t\t\t\t\t\t\t\tdisplay: inline-grid;\n",
       "\t\t\t\t\t\t\t\t\t\t\t\t\t\tgrid-template-columns: auto;\n",
       "\t\t\t\t\t\t\t\t\t\t\t\t\t}\n",
       "\t\t\t\t\t\t\t\t\t\t\t\t</style>\n",
       "\n",
       "\t\t\t\t\t\t\t\t\t\t\t\t<div><div class=\"grid-container\"><div class=\"grid-item\"><img alt=\"Output\" src=\"data:image/png;base64,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\"></div><div class=\"grid-item\"><img alt=\"Output\" src=\"data:image/png;base64,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\"></div></div></div>"
      ],
      "text/plain": [
       "-Graphics-\n",
       "{-Graphics-, -Graphics-, -Graphics-, -Graphics-}"
      ]
     },
     "execution_count": 201,
     "metadata": {
      "text/html": [],
      "text/plain": []
     },
     "output_type": "execute_result"
    }
   ],
   "source": [
    "difco=0.01;\n",
    "greenFunction[t_,x_,x0_]:=1/Sqrt[4 π difco t] Exp[-(x - x0)^2/(4 difco t)];\n",
    "DgreenFunction[t_,x_,x0_]:=-(x - x0)/(2 difco t) * 1/Sqrt[4 π difco t] Exp[-(x - x0)^2/(4 difco t)];\n",
    "\n",
    "(* 初期条件の定義 *)\n",
    "initialCondition[x_]:=Exp[-30*(1-Abs[x])*HeavisideTheta[-(Abs[x]-1)]];\n",
    "\n",
    "Plot[initialCondition[x],{x,-2,2},AxesLabel->{\"x\",Subscript[\"\\[Psi]\",\"ini\"]},BaseStyle->{FontSize->30,FontFamily->\"Latin Modern Roman\"},ImageSize->500,PlotRange->{-1,2},PlotStyle->{Dashed,blue}]\n",
    "\n",
    "\n",
    "(* 解の定義 *)\n",
    "solution1[t_,x_]:= \n",
    " NIntegrate[\n",
    "  greenFunction[t,x,x0]*initialCondition[x0], \n",
    "  {x0,-5,5}, \n",
    "  Method -> \"GlobalAdaptive\"\n",
    " ];\n",
    "\n",
    "solution2[t_,x_]:=NIntegrate[\n",
    "  -0.033*DgreenFunction[t,x,x0]*initialCondition[x0], \n",
    "  {x0,-5,5}, \n",
    "  Method->\"GlobalAdaptive\"\n",
    " ];\n",
    "\n",
    "(* 解をプロットする *)\n",
    "tValues = {0.05,0.1,0.5,1}; (* 計算する時刻 *)\n",
    "plots = Table[\n",
    "   Plot[solution2[t, x]/solution1[t, x], {x, -2, 2}, PlotRange -> {-3,3}, \n",
    "    PlotLabel -> \"t = \" <> ToString[t], \n",
    "    AxesLabel -> {\"x\", \"u(t,x)\"}, PlotStyle -> Thick], \n",
    "   {t, tValues}]\n",
    "\n",
    "(* プロットを表示 *)\n",
    "GraphicsRow[plots];\n"
   ]
  }
 ],
 "metadata": {
  "kernelspec": {
   "display_name": "Wolfram Language 14",
   "language": "Wolfram Language",
   "name": "wolframlanguage14"
  },
  "language_info": {
   "codemirror_mode": "mathematica",
   "file_extension": ".m",
   "mimetype": "application/vnd.wolfram.m",
   "name": "Wolfram Language",
   "pygments_lexer": "mathematica",
   "version": "12.0"
  },
  "orig_nbformat": 4
 },
 "nbformat": 4,
 "nbformat_minor": 2
}
