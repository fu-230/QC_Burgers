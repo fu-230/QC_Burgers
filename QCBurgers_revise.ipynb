ClearAll["Global`*"];
{brown,green,beige,blue}=RGBColor/@{"#640125","#6e7955","#cbb994","#165e83"};
<<"MaTeX`";

(* parameters *)
nu=1. (* heat conductivity *);
SimTime=0.15;
BoxSize=1;
{tMin,tMax}={0,SimTime} (* time *);
{xMin,xMax}={-BoxSize/2.,BoxSize/2.} (* x coordinate *);
xgr=128;dx=BoxSize/(xgr-1);
tgr=6144;dt=SimTime/(tgr-1);
std=0.1; (* sigma of the random variable *)

nu*dt/dx^2<=1/2 (* for nbumerical stability *)
